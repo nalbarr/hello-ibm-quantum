{
 "cells": [
  {
   "cell_type": "code",
   "execution_count": null,
   "metadata": {},
   "outputs": [],
   "source": [
    "from qiskit import *\n",
    "from qiskit.visualization import plot_histogram, plot_state_qsphere, plot_bloch_multivector\n",
    "from qiskit.tools.monitor import job_monitor"
   ]
  },
  {
   "cell_type": "markdown",
   "metadata": {},
   "source": [
    "# Quick QC Visualization Dive\n",
    "Shows how a bell state circuit and just a hadamard gate affect their q-bits\n",
    "\n",
    "- Another visualizer: https://javafxpert.github.io/grok-bloch/\n"
   ]
  },
  {
   "cell_type": "code",
   "execution_count": null,
   "metadata": {},
   "outputs": [],
   "source": [
    "#Run me for the Bell state\n",
    "qc = QuantumCircuit(2, 2)\n",
    "\n",
    "qc.h(0)\n",
    "qc.cx(0, 1)\n",
    "# qc.h(1)\n",
    "\n",
    "meas = QuantumCircuit(2, 2)\n",
    "meas.measure([0, 1], [0, 1])"
   ]
  },
  {
   "cell_type": "code",
   "execution_count": null,
   "metadata": {},
   "outputs": [],
   "source": [
    "#Run me for just a Hadamard gate\n",
    "qc = QuantumCircuit(1, 1)\n",
    "\n",
    "qc.h(0)\n",
    "\n",
    "meas = QuantumCircuit(1, 1)\n",
    "meas.measure(0, 0)"
   ]
  },
  {
   "cell_type": "code",
   "execution_count": null,
   "metadata": {},
   "outputs": [],
   "source": [
    "#Combines the measurement portion and the quantum portion together\n",
    "#This is done so that the statevector can be visualized later on\n",
    "cir = qc.compose(meas)\n",
    "\n",
    "cir.draw()"
   ]
  },
  {
   "cell_type": "markdown",
   "metadata": {},
   "source": [
    "## Counting Statistics\n",
    "Shows the likelihood of measuing a particular z-state after measuring the quantum circuit 1000 times.\n"
   ]
  },
  {
   "cell_type": "code",
   "execution_count": null,
   "metadata": {},
   "outputs": [],
   "source": [
    "backend = BasicAer.get_backend('qasm_simulator')\n",
    "result = backend.run(transpile(cir, backend), shots = 1000).result()\n",
    "\n",
    "counts = result.get_counts(qc)\n",
    "plot_histogram(counts)"
   ]
  },
  {
   "cell_type": "markdown",
   "metadata": {},
   "source": [
    "## State Visualization\n",
    "Shows what the actual state of the qubit is after going through the circuit. It's assumed that it starts in the |1> state"
   ]
  },
  {
   "cell_type": "code",
   "execution_count": null,
   "metadata": {},
   "outputs": [],
   "source": [
    "backend = BasicAer.get_backend('statevector_simulator')\n",
    "result = backend.run(transpile(qc, backend)).result()\n",
    "\n",
    "statVec = result.get_statevector(qc)\n",
    "\n",
    "plot_state_qsphere(statVec)"
   ]
  },
  {
   "cell_type": "code",
   "execution_count": null,
   "metadata": {},
   "outputs": [],
   "source": [
    "plot_bloch_multivector(statVec)"
   ]
  }
 ],
 "metadata": {
  "language_info": {
   "name": "python"
  },
  "orig_nbformat": 4
 },
 "nbformat": 4,
 "nbformat_minor": 2
}
