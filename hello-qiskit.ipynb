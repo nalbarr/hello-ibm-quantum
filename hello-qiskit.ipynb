{
 "cells": [
  {
   "cell_type": "markdown",
   "metadata": {
    "id": "_AAJjg_n9Q-Z"
   },
   "source": [
    "# hello-qiskit\n",
    "- https://github.com/qiskit-community/qiskit-community-tutorials/blob/master/hello_world/hello_zero.ipynb"
   ]
  },
  {
   "cell_type": "code",
   "execution_count": 1,
   "metadata": {
    "colab": {
     "base_uri": "https://localhost:8080/"
    },
    "executionInfo": {
     "elapsed": 29629,
     "status": "ok",
     "timestamp": 1644585974901,
     "user": {
      "displayName": "Narciso Albarracin",
      "photoUrl": "https://lh3.googleusercontent.com/a/default-user=s64",
      "userId": "00793220350274187363"
     },
     "user_tz": 360
    },
    "id": "gr-ZnGSo9eh-",
    "outputId": "c7ad7690-3c65-4ee0-acac-715717f68def"
   },
   "outputs": [
    {
     "name": "stdout",
     "output_type": "stream",
     "text": [
      "Collecting qiskit\n",
      "  Downloading qiskit-0.34.2.tar.gz (13 kB)\n",
      "  Preparing metadata (setup.py) ... \u001b[?25ldone\n",
      "\u001b[?25hCollecting qiskit-terra==0.19.2\n",
      "  Downloading qiskit_terra-0.19.2-cp39-cp39-macosx_10_9_x86_64.whl (5.6 MB)\n",
      "     |████████████████████████████████| 5.6 MB 158 kB/s            \n",
      "\u001b[?25hCollecting qiskit-aer==0.10.3\n",
      "  Downloading qiskit_aer-0.10.3-cp39-cp39-macosx_10_9_x86_64.whl (8.6 MB)\n",
      "     |████████████████████████████████| 8.6 MB 41 kB/s             \n",
      "\u001b[?25hCollecting qiskit-ibmq-provider==0.18.3\n",
      "  Downloading qiskit_ibmq_provider-0.18.3-py3-none-any.whl (238 kB)\n",
      "     |████████████████████████████████| 238 kB 6.7 MB/s            \n",
      "\u001b[?25hCollecting qiskit-ignis==0.7.0\n",
      "  Downloading qiskit_ignis-0.7.0-py3-none-any.whl (200 kB)\n",
      "     |████████████████████████████████| 200 kB 4.6 MB/s            \n",
      "\u001b[?25hCollecting scipy>=1.0\n",
      "  Downloading scipy-1.8.0-cp39-cp39-macosx_12_0_universal2.macosx_10_9_x86_64.whl (55.6 MB)\n",
      "     |████████████████████████████████| 55.6 MB 11 kB/s             \n",
      "\u001b[?25hCollecting numpy>=1.16.3\n",
      "  Downloading numpy-1.22.2-cp39-cp39-macosx_10_14_x86_64.whl (17.6 MB)\n",
      "     |████████████████████████████████| 17.6 MB 81 kB/s             \n",
      "\u001b[?25hCollecting requests-ntlm>=1.1.0\n",
      "  Downloading requests_ntlm-1.1.0-py2.py3-none-any.whl (5.7 kB)\n",
      "Collecting requests>=2.19\n",
      "  Downloading requests-2.27.1-py2.py3-none-any.whl (63 kB)\n",
      "     |████████████████████████████████| 63 kB 816 kB/s            \n",
      "\u001b[?25hCollecting websocket-client>=1.0.1\n",
      "  Downloading websocket_client-1.2.3-py3-none-any.whl (53 kB)\n",
      "     |████████████████████████████████| 53 kB 1.5 MB/s            \n",
      "\u001b[?25hCollecting urllib3>=1.21.1\n",
      "  Downloading urllib3-1.26.8-py2.py3-none-any.whl (138 kB)\n",
      "     |████████████████████████████████| 138 kB 4.9 MB/s            \n",
      "\u001b[?25hRequirement already satisfied: python-dateutil>=2.8.0 in /Users/nalbarr/.local/share/virtualenvs/hello-ibm-quantum--Wk3-1ER/lib/python3.9/site-packages (from qiskit-ibmq-provider==0.18.3->qiskit) (2.8.2)\n",
      "Collecting retworkx>=0.8.0\n",
      "  Downloading retworkx-0.11.0-cp39-cp39-macosx_10_9_x86_64.whl (1.3 MB)\n",
      "     |████████████████████████████████| 1.3 MB 8.6 MB/s            \n",
      "\u001b[?25hRequirement already satisfied: setuptools>=40.1.0 in /Users/nalbarr/.local/share/virtualenvs/hello-ibm-quantum--Wk3-1ER/lib/python3.9/site-packages (from qiskit-ignis==0.7.0->qiskit) (60.5.0)\n",
      "Collecting stevedore>=3.0.0\n",
      "  Downloading stevedore-3.5.0-py3-none-any.whl (49 kB)\n",
      "     |████████████████████████████████| 49 kB 1.6 MB/s            \n",
      "\u001b[?25hCollecting python-constraint>=1.4\n",
      "  Downloading python-constraint-1.4.0.tar.bz2 (18 kB)\n",
      "  Preparing metadata (setup.py) ... \u001b[?25ldone\n",
      "\u001b[?25hCollecting tweedledum<2.0,>=1.1\n",
      "  Downloading tweedledum-1.1.1-cp39-cp39-macosx_10_15_x86_64.whl (961 kB)\n",
      "     |████████████████████████████████| 961 kB 4.8 MB/s            \n",
      "\u001b[?25hCollecting dill>=0.3\n",
      "  Downloading dill-0.3.4-py2.py3-none-any.whl (86 kB)\n",
      "     |████████████████████████████████| 86 kB 671 kB/s            \n",
      "\u001b[?25hCollecting psutil>=5\n",
      "  Downloading psutil-5.9.0-cp39-cp39-macosx_10_9_x86_64.whl (238 kB)\n",
      "     |████████████████████████████████| 238 kB 5.5 MB/s            \n",
      "\u001b[?25hCollecting sympy>=1.3\n",
      "  Downloading sympy-1.9-py3-none-any.whl (6.2 MB)\n",
      "     |████████████████████████████████| 6.2 MB 4.6 MB/s            \n",
      "\u001b[?25hCollecting ply>=3.10\n",
      "  Downloading ply-3.11-py2.py3-none-any.whl (49 kB)\n",
      "     |████████████████████████████████| 49 kB 1.6 MB/s            \n",
      "\u001b[?25hCollecting symengine>=0.8\n",
      "  Downloading symengine-0.8.1-cp39-cp39-macosx_10_9_x86_64.whl (17.7 MB)\n",
      "     |████████████████████████████████| 17.7 MB 14 kB/s             \n",
      "\u001b[?25hRequirement already satisfied: six>=1.5 in /Users/nalbarr/.local/share/virtualenvs/hello-ibm-quantum--Wk3-1ER/lib/python3.9/site-packages (from python-dateutil>=2.8.0->qiskit-ibmq-provider==0.18.3->qiskit) (1.16.0)\n",
      "Collecting charset-normalizer~=2.0.0\n",
      "  Downloading charset_normalizer-2.0.12-py3-none-any.whl (39 kB)\n",
      "Collecting certifi>=2017.4.17\n",
      "  Downloading certifi-2021.10.8-py2.py3-none-any.whl (149 kB)\n",
      "     |████████████████████████████████| 149 kB 4.5 MB/s            \n",
      "\u001b[?25hCollecting idna<4,>=2.5\n",
      "  Downloading idna-3.3-py3-none-any.whl (61 kB)\n",
      "     |████████████████████████████████| 61 kB 3.6 MB/s            \n",
      "\u001b[?25hCollecting ntlm-auth>=1.0.2\n",
      "  Downloading ntlm_auth-1.5.0-py2.py3-none-any.whl (29 kB)\n",
      "Collecting cryptography>=1.3\n",
      "  Downloading cryptography-36.0.1-cp36-abi3-macosx_10_10_x86_64.whl (2.6 MB)\n",
      "     |████████████████████████████████| 2.6 MB 8.1 MB/s            \n",
      "\u001b[?25hCollecting pbr!=2.1.0,>=2.0.0\n",
      "  Downloading pbr-5.8.1-py2.py3-none-any.whl (113 kB)\n",
      "     |████████████████████████████████| 113 kB 5.2 MB/s            \n",
      "\u001b[?25hCollecting mpmath>=0.19\n",
      "  Downloading mpmath-1.2.1-py3-none-any.whl (532 kB)\n",
      "     |████████████████████████████████| 532 kB 2.5 MB/s            \n",
      "\u001b[?25hRequirement already satisfied: cffi>=1.12 in /Users/nalbarr/.local/share/virtualenvs/hello-ibm-quantum--Wk3-1ER/lib/python3.9/site-packages (from cryptography>=1.3->requests-ntlm>=1.1.0->qiskit-ibmq-provider==0.18.3->qiskit) (1.15.0)\n",
      "Requirement already satisfied: pycparser in /Users/nalbarr/.local/share/virtualenvs/hello-ibm-quantum--Wk3-1ER/lib/python3.9/site-packages (from cffi>=1.12->cryptography>=1.3->requests-ntlm>=1.1.0->qiskit-ibmq-provider==0.18.3->qiskit) (2.21)\n",
      "Building wheels for collected packages: qiskit, python-constraint\n",
      "  Building wheel for qiskit (setup.py) ... \u001b[?25ldone\n",
      "\u001b[?25h  Created wheel for qiskit: filename=qiskit-0.34.2-py3-none-any.whl size=11805 sha256=8971567422c29fa2be8dd49fa42e1f7d23bbf72500b3a79970a7a833b392ea8e\n",
      "  Stored in directory: /Users/nalbarr/Library/Caches/pip/wheels/ce/2f/38/6fd389a63594f31ede20addb742f4c3002164d2d1c9a6e9481\n",
      "  Building wheel for python-constraint (setup.py) ... \u001b[?25ldone\n",
      "\u001b[?25h  Created wheel for python-constraint: filename=python_constraint-1.4.0-py2.py3-none-any.whl size=24081 sha256=e4276df46ec46d3813233db44fbd4e3480b4f95b473944ff4060cd5bf235ee0b\n",
      "  Stored in directory: /Users/nalbarr/Library/Caches/pip/wheels/51/36/1f/c2ccb8dc4eba38c5215636d4ae2c480b32069cab0376bcc1a4\n",
      "Successfully built qiskit python-constraint\n",
      "Installing collected packages: urllib3, pbr, numpy, mpmath, idna, charset-normalizer, certifi, tweedledum, sympy, symengine, stevedore, scipy, retworkx, requests, python-constraint, psutil, ply, ntlm-auth, dill, cryptography, websocket-client, requests-ntlm, qiskit-terra, qiskit-ignis, qiskit-ibmq-provider, qiskit-aer, qiskit\n",
      "Successfully installed certifi-2021.10.8 charset-normalizer-2.0.12 cryptography-36.0.1 dill-0.3.4 idna-3.3 mpmath-1.2.1 ntlm-auth-1.5.0 numpy-1.22.2 pbr-5.8.1 ply-3.11 psutil-5.9.0 python-constraint-1.4.0 qiskit-0.34.2 qiskit-aer-0.10.3 qiskit-ibmq-provider-0.18.3 qiskit-ignis-0.7.0 qiskit-terra-0.19.2 requests-2.27.1 requests-ntlm-1.1.0 retworkx-0.11.0 scipy-1.8.0 stevedore-3.5.0 symengine-0.8.1 sympy-1.9 tweedledum-1.1.1 urllib3-1.26.8 websocket-client-1.2.3\n"
     ]
    }
   ],
   "source": [
    "!pip install qiskit"
   ]
  },
  {
   "cell_type": "code",
   "execution_count": null,
   "metadata": {
    "executionInfo": {
     "elapsed": 287,
     "status": "ok",
     "timestamp": 1644586433348,
     "user": {
      "displayName": "Narciso Albarracin",
      "photoUrl": "https://lh3.googleusercontent.com/a/default-user=s64",
      "userId": "00793220350274187363"
     },
     "user_tz": 360
    },
    "id": "5ENREZ2D9LqS"
   },
   "outputs": [],
   "source": [
    "import qiskit"
   ]
  },
  {
   "cell_type": "code",
   "execution_count": 12,
   "metadata": {
    "executionInfo": {
     "elapsed": 16,
     "status": "ok",
     "timestamp": 1644586436018,
     "user": {
      "displayName": "Narciso Albarracin",
      "photoUrl": "https://lh3.googleusercontent.com/a/default-user=s64",
      "userId": "00793220350274187363"
     },
     "user_tz": 360
    },
    "id": "dGUbE2Im9seL"
   },
   "outputs": [],
   "source": [
    "qr = qiskit.QuantumRegister(1)\n",
    "cr = qiskit.ClassicalRegister(1)\n",
    "program = qiskit.QuantumCircuit(qr, cr)"
   ]
  },
  {
   "cell_type": "code",
   "execution_count": 5,
   "metadata": {
    "colab": {
     "base_uri": "https://localhost:8080/"
    },
    "executionInfo": {
     "elapsed": 466,
     "status": "ok",
     "timestamp": 1644586015924,
     "user": {
      "displayName": "Narciso Albarracin",
      "photoUrl": "https://lh3.googleusercontent.com/a/default-user=s64",
      "userId": "00793220350274187363"
     },
     "user_tz": 360
    },
    "id": "-GM3GCzh9wR7",
    "outputId": "a9f44e96-f32f-4703-e3e7-0a5064d915a0"
   },
   "outputs": [
    {
     "data": {
      "text/plain": [
       "<qiskit.circuit.instructionset.InstructionSet at 0x7f1fd97501e0>"
      ]
     },
     "execution_count": 5,
     "metadata": {},
     "output_type": "execute_result"
    }
   ],
   "source": [
    "program.measure(qr,cr)"
   ]
  },
  {
   "cell_type": "code",
   "execution_count": 6,
   "metadata": {
    "executionInfo": {
     "elapsed": 1303,
     "status": "ok",
     "timestamp": 1644586029884,
     "user": {
      "displayName": "Narciso Albarracin",
      "photoUrl": "https://lh3.googleusercontent.com/a/default-user=s64",
      "userId": "00793220350274187363"
     },
     "user_tz": 360
    },
    "id": "zhPiUU_q90Ct"
   },
   "outputs": [],
   "source": [
    "job = qiskit.execute( program, qiskit.BasicAer.get_backend('qasm_simulator') )"
   ]
  },
  {
   "cell_type": "code",
   "execution_count": 7,
   "metadata": {
    "colab": {
     "base_uri": "https://localhost:8080/"
    },
    "executionInfo": {
     "elapsed": 202,
     "status": "ok",
     "timestamp": 1644586044675,
     "user": {
      "displayName": "Narciso Albarracin",
      "photoUrl": "https://lh3.googleusercontent.com/a/default-user=s64",
      "userId": "00793220350274187363"
     },
     "user_tz": 360
    },
    "id": "phy99BWf93-3",
    "outputId": "a840006f-4f9c-4dfc-9ea3-a1a87aa9a31e"
   },
   "outputs": [
    {
     "name": "stdout",
     "output_type": "stream",
     "text": [
      "{'0': 1024}\n"
     ]
    }
   ],
   "source": [
    "print( job.result().get_counts() )"
   ]
  },
  {
   "cell_type": "markdown",
   "metadata": {
    "id": "rFileiKn-VWj"
   },
   "source": [
    "### NA. NOTE: deprecated method\n",
    "- https://quantumcomputing.stackexchange.com/questions/9651/ibmqfactory-object-has-no-attribute-load-accounts"
   ]
  },
  {
   "cell_type": "code",
   "execution_count": 14,
   "metadata": {
    "executionInfo": {
     "elapsed": 3315,
     "status": "ok",
     "timestamp": 1644586679213,
     "user": {
      "displayName": "Narciso Albarracin",
      "photoUrl": "https://lh3.googleusercontent.com/a/default-user=s64",
      "userId": "00793220350274187363"
     },
     "user_tz": 360
    },
    "id": "aFNBgQnI-jM8"
   },
   "outputs": [],
   "source": [
    "# NAA.\n",
    "# - https://quantum-computing.ibm.com/account\n",
    "token = '<your account>'\n",
    "IBMQ.save_account(token)    \n",
    "provider = IBMQ.load_account()"
   ]
  },
  {
   "cell_type": "markdown",
   "metadata": {
    "id": "nVfw_5ky_HJG"
   },
   "source": [
    "### NA. List backends\n",
    "- https://entangledquery.com/t/how-do-you-access-the-ibm-quantum-computer-backend-using-api-tokens/25/\n",
    "- https://github.com/Qiskit/qiskit-ibmq-provider"
   ]
  },
  {
   "cell_type": "code",
   "execution_count": 15,
   "metadata": {
    "colab": {
     "base_uri": "https://localhost:8080/"
    },
    "executionInfo": {
     "elapsed": 229,
     "status": "ok",
     "timestamp": 1644586710492,
     "user": {
      "displayName": "Narciso Albarracin",
      "photoUrl": "https://lh3.googleusercontent.com/a/default-user=s64",
      "userId": "00793220350274187363"
     },
     "user_tz": 360
    },
    "id": "eMvbjOmg_Ov4",
    "outputId": "4f4189ca-0ae2-4ef4-e77f-f355c9bba47a"
   },
   "outputs": [
    {
     "data": {
      "text/plain": [
       "[<IBMQSimulator('ibmq_qasm_simulator') from IBMQ(hub='ibm-q', group='open', project='main')>,\n",
       " <IBMQBackend('ibmq_armonk') from IBMQ(hub='ibm-q', group='open', project='main')>,\n",
       " <IBMQBackend('ibmq_santiago') from IBMQ(hub='ibm-q', group='open', project='main')>,\n",
       " <IBMQBackend('ibmq_bogota') from IBMQ(hub='ibm-q', group='open', project='main')>,\n",
       " <IBMQBackend('ibmq_lima') from IBMQ(hub='ibm-q', group='open', project='main')>,\n",
       " <IBMQBackend('ibmq_belem') from IBMQ(hub='ibm-q', group='open', project='main')>,\n",
       " <IBMQBackend('ibmq_quito') from IBMQ(hub='ibm-q', group='open', project='main')>,\n",
       " <IBMQSimulator('simulator_statevector') from IBMQ(hub='ibm-q', group='open', project='main')>,\n",
       " <IBMQSimulator('simulator_mps') from IBMQ(hub='ibm-q', group='open', project='main')>,\n",
       " <IBMQSimulator('simulator_extended_stabilizer') from IBMQ(hub='ibm-q', group='open', project='main')>,\n",
       " <IBMQSimulator('simulator_stabilizer') from IBMQ(hub='ibm-q', group='open', project='main')>,\n",
       " <IBMQBackend('ibmq_manila') from IBMQ(hub='ibm-q', group='open', project='main')>]"
      ]
     },
     "execution_count": 15,
     "metadata": {},
     "output_type": "execute_result"
    }
   ],
   "source": [
    "from qiskit import IBMQ\n",
    "provider = IBMQ.get_provider(hub='ibm-q')\n",
    "provider.backends()"
   ]
  },
  {
   "cell_type": "code",
   "execution_count": 18,
   "metadata": {
    "colab": {
     "base_uri": "https://localhost:8080/"
    },
    "executionInfo": {
     "elapsed": 28889,
     "status": "ok",
     "timestamp": 1644587008286,
     "user": {
      "displayName": "Narciso Albarracin",
      "photoUrl": "https://lh3.googleusercontent.com/a/default-user=s64",
      "userId": "00793220350274187363"
     },
     "user_tz": 360
    },
    "id": "NsJH6za8-BBV",
    "outputId": "b5220488-606a-4006-e879-afefdafdb990"
   },
   "outputs": [
    {
     "name": "stdout",
     "output_type": "stream",
     "text": [
      "{'0': 4000}\n"
     ]
    }
   ],
   "source": [
    "# NA. NOTE: below did not work; so look up closed geographic location\n",
    "# qiskit.IBMQ.load_account()\n",
    "# backend = qiskit.providers.ibmq.least_busy(qiskit.IBMQ.backends(simulator=False))\n",
    "# print(\"We'll use the least busy device:\",backend.name())\n",
    "backend = provider.get_backend(\"ibmq_armonk\")\n",
    "job = qiskit.execute( program, backend )\n",
    "print( job.result().get_counts() )"
   ]
  }
 ],
 "metadata": {
  "colab": {
   "authorship_tag": "ABX9TyMIKKuPmT6Z4VJJpfdROIP4",
   "name": "hello-qiskit.ipynb",
   "provenance": []
  },
  "kernelspec": {
   "display_name": "Python 3 (ipykernel)",
   "language": "python",
   "name": "python3"
  },
  "language_info": {
   "codemirror_mode": {
    "name": "ipython",
    "version": 3
   },
   "file_extension": ".py",
   "mimetype": "text/x-python",
   "name": "python",
   "nbconvert_exporter": "python",
   "pygments_lexer": "ipython3",
   "version": "3.9.7"
  }
 },
 "nbformat": 4,
 "nbformat_minor": 1
}
